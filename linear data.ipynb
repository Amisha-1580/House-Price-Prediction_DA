{
 "cells": [
  {
   "cell_type": "code",
   "execution_count": 38,
   "id": "13d2c001-71d1-4920-934f-c37088658a26",
   "metadata": {},
   "outputs": [],
   "source": [
    "import pandas as pd\n",
    "import numpy as np \n",
    "import matplotlib.pyplot as plt\n",
    "import seaborn as sns\n",
    "from sklearn.model_selection import train_test_split\n",
    "from sklearn.linear_model import LinearRegression\n",
    "from sklearn.metrics import mean_absolute_error,mean_squared_error,r2_score\n",
    "\n",
    "\n"
   ]
  },
  {
   "cell_type": "code",
   "execution_count": 41,
   "id": "dd737eff-39da-4f50-bb47-f70bcdeba7f3",
   "metadata": {},
   "outputs": [
    {
     "data": {
      "text/html": [
       "<div>\n",
       "<style scoped>\n",
       "    .dataframe tbody tr th:only-of-type {\n",
       "        vertical-align: middle;\n",
       "    }\n",
       "\n",
       "    .dataframe tbody tr th {\n",
       "        vertical-align: top;\n",
       "    }\n",
       "\n",
       "    .dataframe thead th {\n",
       "        text-align: right;\n",
       "    }\n",
       "</style>\n",
       "<table border=\"1\" class=\"dataframe\">\n",
       "  <thead>\n",
       "    <tr style=\"text-align: right;\">\n",
       "      <th></th>\n",
       "      <th>size(sq ft)</th>\n",
       "      <th>Price($1000s)</th>\n",
       "    </tr>\n",
       "  </thead>\n",
       "  <tbody>\n",
       "    <tr>\n",
       "      <th>0</th>\n",
       "      <td>1000</td>\n",
       "      <td>200</td>\n",
       "    </tr>\n",
       "    <tr>\n",
       "      <th>1</th>\n",
       "      <td>1200</td>\n",
       "      <td>250</td>\n",
       "    </tr>\n",
       "    <tr>\n",
       "      <th>2</th>\n",
       "      <td>1500</td>\n",
       "      <td>270</td>\n",
       "    </tr>\n",
       "    <tr>\n",
       "      <th>3</th>\n",
       "      <td>1800</td>\n",
       "      <td>300</td>\n",
       "    </tr>\n",
       "    <tr>\n",
       "      <th>4</th>\n",
       "      <td>2000</td>\n",
       "      <td>320</td>\n",
       "    </tr>\n",
       "  </tbody>\n",
       "</table>\n",
       "</div>"
      ],
      "text/plain": [
       "   size(sq ft)  Price($1000s)\n",
       "0         1000            200\n",
       "1         1200            250\n",
       "2         1500            270\n",
       "3         1800            300\n",
       "4         2000            320"
      ]
     },
     "execution_count": 41,
     "metadata": {},
     "output_type": "execute_result"
    }
   ],
   "source": [
    "data = {'size(sq ft)':[1000,1200,1500,1800,2000,2500,2800,3000],\n",
    "        'Price($1000s)':[200,250,270,300,320,360,400,420]}\n",
    "df = pd.DataFrame(data)\n",
    "df.head()\n",
    "        "
   ]
  },
  {
   "cell_type": "code",
   "execution_count": 42,
   "id": "035efdc4-b5e7-4035-81d0-591d291be612",
   "metadata": {},
   "outputs": [
    {
     "name": "stdout",
     "output_type": "stream",
     "text": [
      "   size(sq ft)\n",
      "0         1000\n",
      "1         1200\n",
      "2         1500\n",
      "3         1800\n",
      "4         2000\n",
      "5         2500\n",
      "6         2800\n",
      "7         3000\n",
      "0    200\n",
      "1    250\n",
      "2    270\n",
      "3    300\n",
      "4    320\n",
      "5    360\n",
      "6    400\n",
      "7    420\n",
      "Name: Price($1000s), dtype: int64\n"
     ]
    }
   ],
   "source": [
    "# Independent and dependent variables\n",
    "x = df[['size(sq ft)']]  # Independent variable\n",
    "y = df['Price($1000s)']  # Dependent variable\n",
    "\n",
    "# Display the results\n",
    "print(x)\n",
    "print(y)"
   ]
  },
  {
   "cell_type": "code",
   "execution_count": null,
   "id": "3de8219d-966b-4c92-a322-e9935f3a0db9",
   "metadata": {},
   "outputs": [],
   "source": [
    "x_train,x_test,y_train,y_test = train_test_split(x,y,test_size = 0.2,random_state = 42)"
   ]
  },
  {
   "cell_type": "code",
   "execution_count": null,
   "id": "0a142538-13a4-445f-a15a-dc22629b4ac0",
   "metadata": {},
   "outputs": [],
   "source": [
    "# If x was a Series, reshape it to a 2D array before fitting the model\n",
    "x_train, x_test, y_train, y_test = train_test_split(x.values.reshape(-1, 1), y, test_size=0.2, random_state=42)\n",
    "\n",
    "\n",
    "model = LinearRegression()\n",
    "\n",
    "# Now you can fit the model without the error\n",
    "model.fit(x_train, y_train)\n",
    "\n"
   ]
  },
  {
   "cell_type": "code",
   "execution_count": null,
   "id": "2fb27c40-c7c2-48e1-969d-a40d33811176",
   "metadata": {},
   "outputs": [],
   "source": [
    "y_pred = model.predict(x_test)\n",
    "\n"
   ]
  },
  {
   "cell_type": "raw",
   "id": "8426ce21-2e58-4f6c-b7c3-9d7b3a0a0db9",
   "metadata": {},
   "source": [
    "print(\"Mean Absolute Error:\",mean_absolute_error(y_test,y_pred))\n",
    "print(\"Mean Squared Error:\", mean_squared_error(y_test,y-pred))\n",
    "print(\"R2 score:\",r2_score(y_test,y_pred))"
   ]
  },
  {
   "cell_type": "code",
   "execution_count": null,
   "id": "0d376d54-bf01-4b4a-b48b-c0d8b123fdb8",
   "metadata": {},
   "outputs": [],
   "source": [
    "plt.figure(figsize=(8,5))\n",
    "sns.scatterplot(x=df['size(sq ft)'],\n",
    "y=df['Price($1000s)'], color='blue',label=\"Actual Data\")\n",
    "plt.plot(df['size(sq ft)'],\n",
    "model.predict(df[['size(sq ft)']]),\n",
    "color='red' , label = \"Regression Line\")\n",
    "plt.xlabel(\"size(sq ft)\")\n",
    "plt.ylabel(\"Price($1000s)\")\n",
    "\n",
    "plt.title(\"House Price Prediction Using Linear Regression\")\n",
    "plt.legend()\n",
    "plt.show()\n",
    " \n"
   ]
  },
  {
   "cell_type": "markdown",
   "id": "48817805-b6b4-4d7a-b19f-02c6d5328f13",
   "metadata": {},
   "source": [
    "# That’s awesome! This project clearly shows a solid understanding of **Linear Regression** applied to **house price prediction**. Here's a summary :\n",
    "\n",
    "---\n",
    "\n",
    "### 📝 **Project Summary: House Price Prediction Using Linear Regression**\n",
    "\n",
    "**Objective:**  \n",
    "To predict house prices based on house size (in square feet) using a simple linear regression model.\n",
    "\n",
    "**Tools Used:**\n",
    "- Python\n",
    "- Jupyter Notebook\n",
    "- Libraries: `sklearn`, `matplotlib`, `numpy`\n",
    "\n",
    "**Dataset Used:**  \n",
    "- Independent Variable: `Size (sq ft)`\n",
    "- Dependent Variable: `Price ($1000s)`\n",
    "\n",
    "**Workflow:**\n",
    "1. **Data Preparation** – Collected and organized data of house sizes and their corresponding prices.\n",
    "2. **Model Creation** – Used Scikit-Learn’s `LinearRegression` model to fit the data.\n",
    "3. **Prediction & Visualization** – Plotted:\n",
    "   - Blue dots to represent actual data.\n",
    "   - A red line to represent the regression line (predicted values).\n",
    "4. **Output:**  \n",
    "   The regression line closely follows the actual data, indicating a strong linear relationship.\n",
    "\n",
    "**Interpretation:**  \n",
    "As the size of the house increases, the price also increases, which fits the expected market trend. The model captures this relationship accurately.\n",
    "\n",
    "---\n",
    "\n"
   ]
  },
  {
   "cell_type": "code",
   "execution_count": null,
   "id": "1dffbbb4-1199-4fe9-9f70-a43bb8d0726c",
   "metadata": {},
   "outputs": [],
   "source": []
  }
 ],
 "metadata": {
  "kernelspec": {
   "display_name": "Python 3 (ipykernel)",
   "language": "python",
   "name": "python3"
  },
  "language_info": {
   "codemirror_mode": {
    "name": "ipython",
    "version": 3
   },
   "file_extension": ".py",
   "mimetype": "text/x-python",
   "name": "python",
   "nbconvert_exporter": "python",
   "pygments_lexer": "ipython3",
   "version": "3.13.0"
  }
 },
 "nbformat": 4,
 "nbformat_minor": 5
}
